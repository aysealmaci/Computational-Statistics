{
  "cells": [
    {
      "cell_type": "markdown",
      "id": "c87dc950",
      "metadata": {
        "id": "c87dc950"
      },
      "source": [
        "[![Open in Colab](https://colab.research.google.com/assets/colab-badge.svg)](https://colab.research.google.com/github/y-akbal/Tedu_Computational_Statistics/blob/main/11/ALE.ipynb)"
      ]
    },
    {
      "cell_type": "code",
      "execution_count": 22,
      "id": "533892d2",
      "metadata": {
        "id": "533892d2"
      },
      "outputs": [],
      "source": [
        "import matplotlib.pyplot as plt\n",
        "import numpy as np\n",
        "import scipy\n",
        "from scipy import stats\n",
        "import requests\n",
        "import pandas as pd"
      ]
    },
    {
      "cell_type": "code",
      "execution_count": 23,
      "id": "0ee1000a",
      "metadata": {
        "id": "0ee1000a"
      },
      "outputs": [],
      "source": [
        "def download_data():  ### This dude will download the dataset from the directory directly!\n",
        "  url = \"https://raw.githubusercontent.com/y-akbal/Computational_Statistics/main/11/dataset.csv\"\n",
        "  res = requests.get(url, allow_redirects=True)\n",
        "  with open('dataset.csv','wb') as file:\n",
        "    file.write(res.content)\n",
        "download_data()"
      ]
    },
    {
      "cell_type": "code",
      "execution_count": 24,
      "id": "61ef1751",
      "metadata": {
        "id": "61ef1751"
      },
      "outputs": [],
      "source": [
        "dataset = pd.read_csv(\"dataset.csv\")[: 100]"
      ]
    },
    {
      "cell_type": "markdown",
      "id": "f9e221e1",
      "metadata": {
        "id": "f9e221e1"
      },
      "source": [
        "**bold text**## Some Exploratory Data Analysis"
      ]
    },
    {
      "cell_type": "code",
      "execution_count": 25,
      "id": "0ae46e38",
      "metadata": {
        "id": "0ae46e38",
        "colab": {
          "base_uri": "https://localhost:8080/"
        },
        "outputId": "cdd2d121-b752-496b-b07f-878e8241bc30"
      },
      "outputs": [
        {
          "output_type": "stream",
          "name": "stdout",
          "text": [
            "\n",
            "Average citric acidity: 0.2539\n",
            "Maximum citric acidity observed: 0.73\n",
            "Average density: 0.9968819999999999\n"
          ]
        }
      ],
      "source": [
        "## What is the average citric acidity?\n",
        "## What is the maximum citric acidity obverved?\n",
        "## What is the average density?\n",
        "\n",
        "average_citric_acidity = dataset['citric acid'].mean()\n",
        "print(\"\\nAverage citric acidity:\", average_citric_acidity)\n",
        "\n",
        "max_citric_acidity = dataset['citric acid'].max()\n",
        "print(\"Maximum citric acidity observed:\", max_citric_acidity)\n",
        "\n",
        "average_density = dataset['density'].mean()\n",
        "print(\"Average density:\", average_density)"
      ]
    },
    {
      "cell_type": "markdown",
      "id": "8bbed582",
      "metadata": {
        "id": "8bbed582"
      },
      "source": [
        "[link text](https://)# Bootstrap Questions\n"
      ]
    },
    {
      "cell_type": "code",
      "execution_count": 26,
      "id": "7a06540e",
      "metadata": {
        "scrolled": true,
        "id": "7a06540e",
        "colab": {
          "base_uri": "https://localhost:8080/"
        },
        "outputId": "3766e3a6-f161-437c-887b-0db584941c55"
      },
      "outputs": [
        {
          "output_type": "stream",
          "name": "stdout",
          "text": [
            "Correlation: 0.45139193619061313\n",
            "Bootstrap Standard Error: 0.0697283821953742\n",
            "Bias in estimation: -0.44667205042616953\n"
          ]
        }
      ],
      "source": [
        "## A researcher wants to find out a possible correlation between citric acid and density of some wine samples\n",
        "## 1) What is the correlation between these two features?\n",
        "## 2) What is the bootstrap standard error that you make in calculating this error?\n",
        "## 3) What do you think about a possible bias in your estimation? overestimate or underestimate?\n",
        "\n",
        "correlation = dataset['citric acid'].corr(dataset['density'])\n",
        "print(f\"Correlation: {correlation}\")\n",
        "\n",
        "\n",
        "def bootstrap_standard_error(data1, data2, num_iterations=1000):\n",
        "    correlations = []\n",
        "    for _ in range(num_iterations):\n",
        "        indices = np.random.choice(len(data1), len(data1), replace=True)\n",
        "        sample_data1 = data1[indices]\n",
        "        sample_data2 = data2[indices]\n",
        "        correlation = np.corrcoef(sample_data1, sample_data2)[0, 1]\n",
        "        correlations.append(correlation)\n",
        "    return np.std(correlations)\n",
        "\n",
        "bootstrap_error = bootstrap_standard_error(dataset['citric acid'], dataset['density'])\n",
        "print(f\"Bootstrap Standard Error: {bootstrap_error}\")\n",
        "\n",
        "bootstrap_bias = np.mean(bootstrap_corr_values) - correlation\n",
        "print(\"Bias in estimation:\", bootstrap_bias)\n",
        "\n",
        "# 3) What do you think about a possible bias in your estimation? overestimate or underestimate?\n",
        "# Answer:\n",
        "# Correlation is 0.45 and confidence interval is [0.31252728427494125, 0.590256588106285]\n",
        "# So, it's neither overestimated nor underestimated\n",
        "\n",
        "#In addition to calculate the correlation coefficient, code below is used:\n",
        "\n",
        "# correlation = 0.45139193619061313 ##come from the output of code above\n",
        "# bootstrap_se = 0.0708493122018734 ##come from the output of code above\n",
        "# confidence_interval = [correlation - 1.96 * bootstrap_se, correlation + 1.96 * bootstrap_se]\n",
        "# print(confidence_interval)"
      ]
    },
    {
      "cell_type": "markdown",
      "id": "ecd1faa5",
      "metadata": {
        "id": "ecd1faa5"
      },
      "source": [
        "## Jackknife Questions:"
      ]
    },
    {
      "cell_type": "code",
      "execution_count": 27,
      "id": "fec99095",
      "metadata": {
        "id": "fec99095",
        "colab": {
          "base_uri": "https://localhost:8080/"
        },
        "outputId": "bb430b19-2f9f-43de-8bae-b70d18ffb1c7"
      },
      "outputs": [
        {
          "output_type": "stream",
          "name": "stdout",
          "text": [
            "Jackknife Standard Error: 0.07093253286518518\n",
            "Bias in estimation: -0.38045940332542794\n"
          ]
        }
      ],
      "source": [
        "## 1) What is the Jackknife standard error that you make in calculating this error?\n",
        "## 2) What do you think about a possible bias in your estimation? overestimate or underestimate?\n",
        "\n",
        "\n",
        "def jackknife_standard_error(data1, data2):\n",
        "    n = len(data1)\n",
        "    correlations = []\n",
        "\n",
        "    for i in range(n):\n",
        "        idx = np.arange(n) != i\n",
        "        correlation = np.corrcoef(data1[idx], data2[idx])[0, 1]\n",
        "        correlations.append(correlation)\n",
        "\n",
        "    return np.sqrt((n - 1) * np.var(correlations, ddof=1))\n",
        "\n",
        "jackknife_error = jackknife_standard_error(dataset['citric acid'], dataset['density'])\n",
        "print(f\"Jackknife Standard Error: {jackknife_error}\")\n",
        "\n",
        "\n",
        "jackknife_bias = np.mean(jackknife_error) - correlation\n",
        "print(\"Bias in estimation:\", jackknife_bias)\n"
      ]
    },
    {
      "cell_type": "markdown",
      "id": "72cca605",
      "metadata": {
        "id": "72cca605"
      },
      "source": [
        "# Quality of Wine is Determined by the following farmula:\n",
        "# A = 0.06*fixed acidity -0.08*volatile acidity + 0.36*citric acid \t-0.02*residual sugar +1.75*chlorides -0.0003*free sulfur dioxide \t-0.004*total sulfur dioxide \t-29.5*density \t0.73*pH \t1.21*sulphates + 0.27*Alcohol + 28.6714363881711\n",
        "\n",
        "# According to this formula which wine is better?\n",
        "# What is the average quality?\n"
      ]
    },
    {
      "cell_type": "code",
      "execution_count": 28,
      "id": "6ec9495d",
      "metadata": {
        "id": "6ec9495d",
        "colab": {
          "base_uri": "https://localhost:8080/"
        },
        "outputId": "fdf7eb93-5d72-40a2-a8fd-241a77300d38"
      },
      "outputs": [
        {
          "output_type": "stream",
          "name": "stdout",
          "text": [
            "The wine with index 19 is predicted to be the best with a quality of 6.745736388171096.\n",
            "The average predicted quality of the wines is 5.665683388171098.\n"
          ]
        }
      ],
      "source": [
        "def predict_func(row):\n",
        "    return (\n",
        "        0.06 * row['fixed acidity'] - 0.08 * row['volatile acidity'] +\n",
        "        0.36 * row['citric acid'] - 0.02 * row['residual sugar'] +\n",
        "        1.75 * row['chlorides'] - 0.0003 * row['free sulfur dioxide'] -\n",
        "        0.004 * row['total sulfur dioxide'] - 29.5 * row['density'] +\n",
        "        0.73 * row['pH'] + 1.21 * row['sulphates'] + 0.27 * row['alcohol'] +\n",
        "        28.6714363881711\n",
        "    )\n",
        "\n",
        "dataset['predicted_quality'] = dataset.apply(predict_func, axis=1)\n",
        "\n",
        "best_wine_index = dataset['predicted_quality'].idxmax()\n",
        "best_wine_quality = dataset.loc[best_wine_index, 'predicted_quality']\n",
        "print(f\"The wine with index {best_wine_index} is predicted to be the best with a quality of {best_wine_quality}.\")\n",
        "\n",
        "average_quality = dataset['predicted_quality'].mean()\n",
        "print(f\"The average predicted quality of the wines is {average_quality}.\")\n"
      ]
    },
    {
      "cell_type": "markdown",
      "source": [
        "# Do some bootstrap to see how quality as a measurement is like to distribute. Sketch some histograms. (Refer 10th week on github)\n"
      ],
      "metadata": {
        "id": "GMTNg-Hn80Hk"
      },
      "id": "GMTNg-Hn80Hk"
    },
    {
      "cell_type": "code",
      "source": [
        "import seaborn as sns\n",
        "\n",
        "num_bootstrap_samples = 1000\n",
        "\n",
        "def bootstrap_quality(data, num_samples=num_bootstrap_samples):\n",
        "    quality_samples = []\n",
        "    for _ in range(num_samples):\n",
        "        bootstrap_sample = data['predicted_quality'].sample(frac=1, replace=True)\n",
        "        quality_samples.extend(bootstrap_sample)\n",
        "    return quality_samples\n",
        "\n",
        "quality_samples = bootstrap_quality(dataset)\n",
        "\n",
        "plt.figure(figsize=(10, 6))\n",
        "sns.histplot(quality_samples, kde=True, bins=30, color='skyblue', edgecolor='black')\n",
        "plt.title('Distribution of Predicted Wine Quality')\n",
        "plt.xlabel('Predicted Quality')\n",
        "plt.ylabel('Frequency')\n",
        "plt.show()\n"
      ],
      "metadata": {
        "id": "xyGUf2ty9Hfz",
        "colab": {
          "base_uri": "https://localhost:8080/",
          "height": 564
        },
        "outputId": "4f1daec2-23af-4008-8d51-40344992f682"
      },
      "id": "xyGUf2ty9Hfz",
      "execution_count": 29,
      "outputs": [
        {
          "output_type": "display_data",
          "data": {
            "text/plain": [
              "<Figure size 1000x600 with 1 Axes>"
            ],
            "image/png": "[encoded data removed]"
          },
          "metadata": {}
        }
      ]
    },
    {
      "cell_type": "markdown",
      "source": [
        "\n",
        "\n",
        "```\n",
        "# This is formatted as code\n",
        "```\n",
        "\n",
        "What is the bootstrap standard error estimation?"
      ],
      "metadata": {
        "id": "0Dv0zX959IJw"
      },
      "id": "0Dv0zX959IJw"
    },
    {
      "cell_type": "code",
      "source": [
        "bootstrap_mean_samples = [np.mean(np.random.choice(quality_samples, len(quality_samples))) for _ in range(num_bootstrap_samples)]\n",
        "bootstrap_standard_error = np.std(bootstrap_mean_samples, ddof=1)\n",
        "\n",
        "print(f\"Bootstrap Standard Error of Predicted Wine Quality: {bootstrap_standard_error}\")\n"
      ],
      "metadata": {
        "id": "ghne-OR19QCo",
        "colab": {
          "base_uri": "https://localhost:8080/"
        },
        "outputId": "4e2a6dc9-1a24-41af-e7bd-90901fbc28cf"
      },
      "id": "ghne-OR19QCo",
      "execution_count": 30,
      "outputs": [
        {
          "output_type": "stream",
          "name": "stdout",
          "text": [
            "Bootstrap Standard Error of Predicted Wine Quality: 0.0014260482872564648\n"
          ]
        }
      ]
    }
  ],
  "metadata": {
    "kernelspec": {
      "display_name": "Python 3 (ipykernel)",
      "language": "python",
      "name": "python3"
    },
    "language_info": {
      "codemirror_mode": {
        "name": "ipython",
        "version": 3
      },
      "file_extension": ".py",
      "mimetype": "text/x-python",
      "name": "python",
      "nbconvert_exporter": "python",
      "pygments_lexer": "ipython3",
      "version": "3.10.12"
    },
    "colab": {
      "provenance": []
    }
  },
  "nbformat": 4,
  "nbformat_minor": 5
}