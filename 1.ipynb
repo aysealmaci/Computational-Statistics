{
  "nbformat": 4,
  "nbformat_minor": 0,
  "metadata": {
    "colab": {
      "provenance": []
    },
    "kernelspec": {
      "name": "python3",
      "display_name": "Python 3"
    },
    "language_info": {
      "name": "python"
    }
  },
  "cells": [
    {
      "cell_type": "markdown",
      "source": [
        "[![Open in Colab](https://colab.research.google.com/assets/colab-badge.svg)](https://colab.research.google.com/github/y-akbal/Tedu_Computational_Statistics/blob/main/3/W3ALE1.ipynb)\n"
      ],
      "metadata": {
        "id": "PpYscADXGEdc"
      }
    },
    {
      "cell_type": "code",
      "source": [
        "import matplotlib.pyplot as plt\n",
        "import numpy as np\n",
        "import scipy\n",
        "from scipy import stats"
      ],
      "metadata": {
        "id": "VWFbJAkKNRm5"
      },
      "execution_count": 26,
      "outputs": []
    },
    {
      "cell_type": "markdown",
      "source": [
        "Example 3.2 (Inverse transform method, continuous case). This example\n",
        "uses the inverse transform method to simulate a random sample from the\n",
        "distribution with density $f_{\\chi} (x) = 3x^2$, where $0 < x < 1$."
      ],
      "metadata": {
        "id": "AXG7htJ9NDEE"
      }
    },
    {
      "cell_type": "markdown",
      "source": [
        "## Now implement cumulative distribution function of $\\chi$. Call it $Fc(x)$. Make sure that you have a couple of if statements inside."
      ],
      "metadata": {
        "id": "HC-Osi4yerMJ"
      }
    },
    {
      "cell_type": "code",
      "source": [
        "def Fc(x):\n",
        "    if x<0:\n",
        "        return 0\n",
        "\n",
        "    elif x>= 1:\n",
        "        return 1\n",
        "\n",
        "    else:\n",
        "        return x**3"
      ],
      "metadata": {
        "id": "8aT5JRciY06T"
      },
      "execution_count": 27,
      "outputs": []
    },
    {
      "cell_type": "code",
      "source": [
        "### Run this cell to see if everything is ok.\n",
        "### Do not change anything below!!!\n",
        "### Graded Cell A0\n",
        "assert Fc(-1.1) == 0 and np.isclose(Fc(1),1) and np.isclose(8*Fc(1/2),1.0), \"Something went wrong buddy check your code again\"\n",
        "print(\"All tests passed succesfully!!!! Congratssss\")"
      ],
      "metadata": {
        "id": "bOiiyzoPf90S",
        "colab": {
          "base_uri": "https://localhost:8080/"
        },
        "outputId": "f1abc2e9-0c44-4be9-c6a0-c0104eb4c9a9"
      },
      "execution_count": 28,
      "outputs": [
        {
          "output_type": "stream",
          "name": "stdout",
          "text": [
            "All tests passed succesfully!!!! Congratssss\n"
          ]
        }
      ]
    },
    {
      "cell_type": "markdown",
      "source": [
        "## Implement now the inverse of $F_c$ on $0<x<1$."
      ],
      "metadata": {
        "id": "gBS6SjYweyJR"
      }
    },
    {
      "cell_type": "code",
      "source": [
        "def F_inv(x):\n",
        "    if np.any((x <= 0)|(x >= 1)):\n",
        "        return None\n",
        "\n",
        "    else:\n",
        "        return x**(1/3)"
      ],
      "metadata": {
        "id": "Txnm2Q3YZO35"
      },
      "execution_count": 29,
      "outputs": []
    },
    {
      "cell_type": "code",
      "source": [
        "### Run this cell to see if everything is ok.\n",
        "### Do not change anything below!!!\n",
        "### Graded Cell A1\n",
        "for i in np.arange(0.00001,0.99,0.1):\n",
        "  assert np.isclose(Fc(F_inv(i)),i) and np.isclose(F_inv(Fc(i)),i), \"Something went wrong buddy check your code again\"\n",
        "print(\"All tests passed succesfully!!!! Congratssss\")"
      ],
      "metadata": {
        "id": "7IfUNV_LZf4C",
        "colab": {
          "base_uri": "https://localhost:8080/"
        },
        "outputId": "1e5d09be-242f-41aa-9964-c39a1c87a373"
      },
      "execution_count": 30,
      "outputs": [
        {
          "output_type": "stream",
          "name": "stdout",
          "text": [
            "All tests passed succesfully!!!! Congratssss\n"
          ]
        }
      ]
    },
    {
      "cell_type": "markdown",
      "source": [
        "## Time for inference!!!"
      ],
      "metadata": {
        "id": "2rLr4zeGaxOf"
      }
    },
    {
      "cell_type": "markdown",
      "source": [
        "### Using F_inv function, draw samples from the random variable $\\chi$ with the density function given as $f_\\chi(x) = 3x^2$.\n",
        "Implement draw_samples function delivering num_samples many samples from this random variable."
      ],
      "metadata": {
        "id": "Bf0H4DYva7MC"
      }
    },
    {
      "cell_type": "code",
      "source": [
        "def draw_samples(num_samples: int = 1000) -> np.ndarray:\n",
        "    random_numbers = np.random.rand(num_samples)\n",
        "\n",
        "    samples = F_inv(random_numbers)\n",
        "\n",
        "    return samples"
      ],
      "metadata": {
        "id": "x9PPrv3HazIe"
      },
      "execution_count": 31,
      "outputs": []
    },
    {
      "cell_type": "code",
      "source": [
        "### Do not change anything below!!!\n",
        "### Run this cell to see if everything is ok.\n",
        "### Graded Cell A2\n",
        "np.random.seed(1)\n",
        "l = scipy.stats.kstest(draw_samples(), np.random.rand(1000)**(1/3))\n",
        "if l.pvalue > 0.2:\n",
        "  print(\"All tests passed sucessfully!!!\")\n",
        "else:\n",
        "  raise AssertionError(\"Check your imlementation mate!!!\")"
      ],
      "metadata": {
        "id": "HAlPIW0ecgr8",
        "colab": {
          "base_uri": "https://localhost:8080/"
        },
        "outputId": "566952e1-9776-4979-e8d7-58c5f9ab49cb"
      },
      "execution_count": 32,
      "outputs": [
        {
          "output_type": "stream",
          "name": "stdout",
          "text": [
            "All tests passed sucessfully!!!\n"
          ]
        }
      ]
    },
    {
      "cell_type": "markdown",
      "source": [
        "#Now use plt.hist function to see if you did the things ok."
      ],
      "metadata": {
        "id": "p1Oi-MegeN-4"
      }
    },
    {
      "cell_type": "code",
      "source": [
        "plt.hist(draw_samples(), bins = 100)"
      ],
      "metadata": {
        "id": "A6wVhv77dEb4",
        "colab": {
          "base_uri": "https://localhost:8080/",
          "height": 951
        },
        "outputId": "22aeb0e6-cc3f-4382-bae6-f921b90d0975"
      },
      "execution_count": 33,
      "outputs": [
        {
          "output_type": "execute_result",
          "data": {
            "text/plain": [
              "(array([ 1.,  0.,  1.,  1.,  0.,  0.,  1.,  2.,  2.,  1.,  1.,  0.,  1.,\n",
              "         2.,  1.,  1.,  3.,  1.,  1.,  3.,  3.,  3.,  2.,  4.,  6.,  5.,\n",
              "         3.,  3.,  3.,  2.,  2.,  2.,  1.,  3.,  3.,  3.,  2.,  9.,  5.,\n",
              "         4.,  5., 10.,  4.,  7.,  8.,  6.,  5., 12.,  5.,  7., 10., 11.,\n",
              "        18., 12.,  6.,  9., 14., 10., 12.,  7., 16., 20., 13., 19., 19.,\n",
              "         8., 15., 11., 10., 20., 16., 13., 13., 12., 14., 14., 22., 18.,\n",
              "        21., 19., 14., 22., 18., 28., 14., 26., 18., 22., 14., 34., 19.,\n",
              "        21., 15., 19., 27., 24., 16., 28., 23., 16.]),\n",
              " array([0.10368985, 0.11265254, 0.12161523, 0.13057791, 0.1395406 ,\n",
              "        0.14850329, 0.15746598, 0.16642866, 0.17539135, 0.18435404,\n",
              "        0.19331672, 0.20227941, 0.2112421 , 0.22020479, 0.22916747,\n",
              "        0.23813016, 0.24709285, 0.25605554, 0.26501822, 0.27398091,\n",
              "        0.2829436 , 0.29190629, 0.30086897, 0.30983166, 0.31879435,\n",
              "        0.32775704, 0.33671972, 0.34568241, 0.3546451 , 0.36360779,\n",
              "        0.37257047, 0.38153316, 0.39049585, 0.39945854, 0.40842122,\n",
              "        0.41738391, 0.4263466 , 0.43530929, 0.44427197, 0.45323466,\n",
              "        0.46219735, 0.47116004, 0.48012272, 0.48908541, 0.4980481 ,\n",
              "        0.50701079, 0.51597347, 0.52493616, 0.53389885, 0.54286153,\n",
              "        0.55182422, 0.56078691, 0.5697496 , 0.57871228, 0.58767497,\n",
              "        0.59663766, 0.60560035, 0.61456303, 0.62352572, 0.63248841,\n",
              "        0.6414511 , 0.65041378, 0.65937647, 0.66833916, 0.67730185,\n",
              "        0.68626453, 0.69522722, 0.70418991, 0.7131526 , 0.72211528,\n",
              "        0.73107797, 0.74004066, 0.74900335, 0.75796603, 0.76692872,\n",
              "        0.77589141, 0.7848541 , 0.79381678, 0.80277947, 0.81174216,\n",
              "        0.82070485, 0.82966753, 0.83863022, 0.84759291, 0.8565556 ,\n",
              "        0.86551828, 0.87448097, 0.88344366, 0.89240634, 0.90136903,\n",
              "        0.91033172, 0.91929441, 0.92825709, 0.93721978, 0.94618247,\n",
              "        0.95514516, 0.96410784, 0.97307053, 0.98203322, 0.99099591,\n",
              "        0.99995859]),\n",
              " <BarContainer object of 100 artists>)"
            ]
          },
          "metadata": {},
          "execution_count": 33
        },
        {
          "output_type": "display_data",
          "data": {
            "text/plain": [
              "<Figure size 640x480 with 1 Axes>"
            ],
            "image/png": "[encoded data removed]"
          },
          "metadata": {}
        }
      ]
    },
    {
      "cell_type": "markdown",
      "source": [
        "## Enjoy the rest of the rest of the day!"
      ],
      "metadata": {
        "id": "bluo28OdeUyk"
      }
    }
  ]
}