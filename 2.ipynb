{
  "cells": [
    {
      "cell_type": "markdown",
      "metadata": {
        "id": "OJGvQ28XGLFs"
      },
      "source": [
        "[![Open in Colab](https://colab.research.google.com/assets/colab-badge.svg)](https://colab.research.google.com/github/y-akbal/Tedu_Computational_Statistics/blob/main/3/W3ALE2.ipynb)\n"
      ]
    },
    {
      "cell_type": "code",
      "execution_count": 49,
      "metadata": {
        "id": "WxaXUBT8Qe4J"
      },
      "outputs": [],
      "source": [
        "import matplotlib.pyplot as plt\n",
        "import numpy as np\n",
        "import scipy\n",
        "import numpy as np\n",
        "import scipy.stats\n",
        "from scipy import stats"
      ]
    },
    {
      "cell_type": "markdown",
      "metadata": {
        "id": "lCHvMOIUQmq3"
      },
      "source": [
        "# Use acceptance and rejection method to draw sample from $\\chi$  with pdf given by $f_\\chi(x) = \\frac{1}{\\pi} x\\sin{x}$ for $x$  in $[0, \\pi]$.\n",
        "\n",
        "\n",
        "\n",
        "1. Find a random variable Y with density g satisfying $f (t)/g(t) ≤ c$, for\n",
        "all t such that $f (t) > 0$. Provide a method to generate random Y.\n",
        "2. For each random variate required:\n",
        "\n",
        "(a) Generate a random $y$ from the distribution with density $g$.\n",
        "\n",
        "(b) Generate a random $u$ from the $Uniform(0, 1)$ distribution.\n",
        "\n",
        "(c) If $u < f (y)/(cg(y))$, accept $y$ and deliver $x = y$; otherwise reject $y$\n",
        "and repeat from Step 2a.\n",
        "# In this example you will implement two functions\n",
        "# 1) return_single_sample\n",
        "# 2) return_sample"
      ]
    },
    {
      "cell_type": "code",
      "execution_count": 50,
      "metadata": {
        "id": "i69MdIwnZBe-"
      },
      "outputs": [],
      "source": [
        "## Here is your f, do not adjust it!!!\n",
        "f = lambda x: x*np.sin(x)/np.pi"
      ]
    },
    {
      "cell_type": "code",
      "execution_count": 51,
      "metadata": {
        "id": "QU8M2NYGZBe-"
      },
      "outputs": [],
      "source": [
        "### cheap way to sample from U(0,1) is np.random.rand()\n",
        "### the following function should return a sample of size 1, from f.\n",
        "### remember a number it should spit out!!!\n",
        "def return_single_sample()->float:\n",
        "  ## Your code here!!!\n",
        "  ## you should have a while loop here!!!\n",
        "  ## your code of acceptance and rejection should be included in the while loop.\n",
        "  ## For g you should come up with an appropriate choice!!!\n",
        "\n",
        "    c=2\n",
        "    g=lambda x:4/np.pi\n",
        "\n",
        "\n",
        "    while True:\n",
        "      Y = np.random.uniform(0,np.pi)\n",
        "      U = np.random.rand()\n",
        "\n",
        "      if U<=f(Y)/(c*g(Y)):\n",
        "          return Y\n",
        "\n",
        "\n",
        "    return None"
      ]
    },
    {
      "cell_type": "code",
      "execution_count": 52,
      "metadata": {
        "id": "KHW1NenrZBe-",
        "colab": {
          "base_uri": "https://localhost:8080/"
        },
        "outputId": "b0526853-de68-46ff-c056-ee6c3ddbfef4"
      },
      "outputs": [
        {
          "output_type": "execute_result",
          "data": {
            "text/plain": [
              "1.4082061614749237"
            ]
          },
          "metadata": {},
          "execution_count": 52
        }
      ],
      "source": [
        "## Let's give a try, the\n",
        "return_single_sample()\n",
        "## You got a real number right???"
      ]
    },
    {
      "cell_type": "code",
      "execution_count": 53,
      "metadata": {
        "id": "yPEAETIQZBe_",
        "colab": {
          "base_uri": "https://localhost:8080/"
        },
        "outputId": "2fdada08-51b9-4949-df0c-c6e448d24c4a"
      },
      "outputs": [
        {
          "output_type": "stream",
          "name": "stdout",
          "text": [
            "Arright frendo, things look good!!!\n"
          ]
        }
      ],
      "source": [
        "### Run your unit test to jump to another step!!!\n",
        "assert isinstance(return_single_sample(), float), \"Things went bad!!! watcha the details, A numpy array!!! :..(\"\n",
        "assert 0<return_single_sample()<np.pi, \"Oh gosh!!!!\"\n",
        "print(\"Arright frendo, things look good!!!\")"
      ]
    },
    {
      "cell_type": "code",
      "execution_count": 54,
      "metadata": {
        "id": "pa1CDi6hZBe_"
      },
      "outputs": [],
      "source": [
        "def return_sample(size: int) -> np.ndarray:\n",
        "\n",
        "    g=lambda x:4/np.pi\n",
        "    c = 2  # Choose an appropriate value of c\n",
        "\n",
        "    samples=[]\n",
        "    while len(samples)<size:\n",
        "        Y=np.random.uniform(0,np.pi)\n",
        "        U = np.random.rand()\n",
        "\n",
        "\n",
        "        if U <= f(Y) / (c * g(Y)):\n",
        "            samples.append(Y)\n",
        "\n",
        "    return np.array(samples)"
      ]
    },
    {
      "cell_type": "code",
      "execution_count": 55,
      "metadata": {
        "id": "NQBKlOPsZBe_",
        "colab": {
          "base_uri": "https://localhost:8080/",
          "height": 431
        },
        "outputId": "6701fc01-eb1d-49a3-b0b9-22519b53b8b8"
      },
      "outputs": [
        {
          "output_type": "display_data",
          "data": {
            "text/plain": [
              "<Figure size 640x480 with 1 Axes>"
            ],
            "image/png": "[encoded data removed]"
          },
          "metadata": {}
        }
      ],
      "source": [
        "## Let's sketch some histograms to see how ya doin', if the graph and the samples do not match\n",
        "## then the next unit test will not work!!!\n",
        "X = np.arange(0,np.pi, 0.001)\n",
        "plt.hist(return_sample(10000), density = True, label = \"Your sample!!!\", bins = 100)\n",
        "plt.plot(X, list(map(lambda x: x*np.sin(x)/np.pi, X)), label = \"Real PDF!!!!\")\n",
        "plt.legend()\n",
        "plt.show()"
      ]
    },
    {
      "cell_type": "code",
      "execution_count": 56,
      "metadata": {
        "id": "lXeQv3STZBe_",
        "colab": {
          "base_uri": "https://localhost:8080/"
        },
        "outputId": "127caabb-ed68-47e7-a5e2-5f50cfe1b374"
      },
      "outputs": [
        {
          "output_type": "stream",
          "name": "stdout",
          "text": [
            "Yaa doin' good buddy!!! Go get some rest, you have come a long way!!!\n"
          ]
        }
      ],
      "source": [
        "### Some unit tests... to see if you are doing good!!!\n",
        "class distribution(stats.rv_continuous):\n",
        "    def __init__(self, a = 0,b = np.pi):\n",
        "        super().__init__(a = a, b = b)\n",
        "    def _pdf(self, x):\n",
        "        return x*np.sin(x)/np.pi\n",
        "assert isinstance(return_sample(100), np.ndarray), \"A numpy array you should return!!!\"\n",
        "assert scipy.stats.kstest(return_sample(1000), distribution().rvs(size = 1000)).pvalue, \"Check your implementatiom MATEEEE!!!\"\n",
        "print(\"Yaa doin' good buddy!!! Go get some rest, you have come a long way!!!\")"
      ]
    }
  ],
  "metadata": {
    "colab": {
      "provenance": []
    },
    "kernelspec": {
      "display_name": "Python 3 (ipykernel)",
      "language": "python",
      "name": "python3"
    },
    "language_info": {
      "codemirror_mode": {
        "name": "ipython",
        "version": 3
      },
      "file_extension": ".py",
      "mimetype": "text/x-python",
      "name": "python",
      "nbconvert_exporter": "python",
      "pygments_lexer": "ipython3",
      "version": "3.10.12"
    }
  },
  "nbformat": 4,
  "nbformat_minor": 0
}