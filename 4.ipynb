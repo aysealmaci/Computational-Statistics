{
  "nbformat": 4,
  "nbformat_minor": 0,
  "metadata": {
    "colab": {
      "provenance": []
    },
    "kernelspec": {
      "name": "python3",
      "display_name": "Python 3"
    },
    "language_info": {
      "name": "python"
    }
  },
  "cells": [
    {
      "cell_type": "markdown",
      "source": [
        "[![Open in Colab](https://colab.research.google.com/assets/colab-badge.svg)](https://colab.research.google.com/github/y-akbal/Tedu_Computational_Statistics/blob/main/4/W4ALE1.ipynb)\n"
      ],
      "metadata": {
        "id": "oDziufKq45hE"
      }
    },
    {
      "cell_type": "code",
      "execution_count": 85,
      "metadata": {
        "id": "0N7wzl9R4SgO"
      },
      "outputs": [],
      "source": [
        "import matplotlib.pyplot as plt\n",
        "import numpy as np\n",
        "import scipy\n",
        "from scipy import stats\n",
        "import pickle\n",
        "import random\n",
        "import math\n",
        "import statsmodels.api as sm\n",
        "\n"
      ]
    },
    {
      "cell_type": "markdown",
      "source": [
        "## Standard Normal Random Variate Generation\n",
        "## In the lecture we stated the following fact:\n",
        "If $U, V \\sim U(0,1)$, and if\n",
        "$Z_1 = \\sqrt{-2 \\log U} \\cos(2\\pi V)$ and\n",
        "$Z_2 = \\sqrt{-2 \\log U} \\sin(2\\pi V)$,\n",
        "then\n",
        "$\n",
        "Z_1, Z_2 \\sim N(0,1) \\text{ independent. }\n",
        "$\n",
        "You will now implement this fact.\n",
        "# Below implement function, $Normal(n:int)-> tuple$ with an argument $n$, and returning a tuple of lists where the first list comes from $Z_1$ and the second from $Z_2$.\n",
        "For instance:\n",
        "$Normal(3) = ([1.2, 0.2, 2.3], [0.1, -2.1, 1.1])$."
      ],
      "metadata": {
        "id": "Z6DA98tE48DV"
      }
    },
    {
      "cell_type": "code",
      "source": [
        "\n",
        "def Normal(n: int) -> tuple:\n",
        "    u = np.random.uniform(0,1, size = n)\n",
        "    v = np.random.uniform(0,1, size = n)\n",
        "\n",
        "\n",
        "    z1 = np.sqrt(-2 * np.log(u)) * np.cos(2 * np.pi * v)\n",
        "    z2 = np.sqrt(-2 * np.log(u)) * np.sin(2 * np.pi * v)\n",
        "\n",
        "\n",
        "    return (z1, z2)\n"
      ],
      "metadata": {
        "id": "9EyaN1QQ7Tae"
      },
      "execution_count": 86,
      "outputs": []
    },
    {
      "cell_type": "code",
      "source": [
        "Normal(5)"
      ],
      "metadata": {
        "id": "zksPLqb2INlW",
        "colab": {
          "base_uri": "https://localhost:8080/"
        },
        "outputId": "91e12460-b9cc-40a2-8af7-d4a4f96e2f70"
      },
      "execution_count": 87,
      "outputs": [
        {
          "output_type": "execute_result",
          "data": {
            "text/plain": [
              "(array([ 0.73641912,  0.56014108, -1.02669674,  0.58818065, -0.50560036]),\n",
              " array([-0.52683274,  1.18104563, -0.99039697, -0.54338978, -1.32926039]))"
            ]
          },
          "metadata": {},
          "execution_count": 87
        }
      ]
    },
    {
      "cell_type": "markdown",
      "source": [
        "# Some unit test (Graded Cell):\n",
        "Below we use two tests:\n",
        "\n",
        "1) [Shapiro test for normality](https://docs.scipy.org/doc/scipy/reference/generated/scipy.stats.shapiro.html#scipy.stats.shapiro),\n",
        "\n",
        "2) [Pearson correlation coefficient test for linear correlation](https://docs.scipy.org/doc/scipy/reference/generated/scipy.stats.pearsonr.html#scipy.stats.pearsonr),\n",
        "In the case you wonder how I design unit tests."
      ],
      "metadata": {
        "id": "esmSWoCn8pNw"
      }
    },
    {
      "cell_type": "code",
      "source": [
        "# Graded Cell A1, Do not change anything below:\n",
        "np.random.seed(1) ### fix seed to produce the same results always\n",
        "N = 1000\n",
        "assert isinstance(Normal(10), tuple), \"Make sure that your function returns a tuple!!!\"\n",
        "z1, z2 = Normal(N)\n",
        "assert len(z1) == N, f\"You gotta come up with exactly {N} samples while yours is {len(z1)}!!!!, Please give attention to shape of the outputs!!!!\"\n",
        "assert scipy.stats.shapiro(z1).pvalue > 0.10 and scipy.stats.shapiro(z2).pvalue > 0.10, \"Your numbers do not seem to normal check your implementation!!!\"\n",
        "assert scipy.stats.pearsonr(z1, z2)[1] > 0.25, \"Your z1 and z2 seem to be pretty correlated, check your implementation!!!\"\n",
        "print(\"You doing great pal!!!! Jump to the next exercise!\")"
      ],
      "metadata": {
        "id": "e2FUL_yW7FsD",
        "colab": {
          "base_uri": "https://localhost:8080/"
        },
        "outputId": "492d2d23-8314-40e7-badc-e712b4a6e1ba"
      },
      "execution_count": 88,
      "outputs": [
        {
          "output_type": "stream",
          "name": "stdout",
          "text": [
            "You doing great pal!!!! Jump to the next exercise!\n"
          ]
        }
      ]
    },
    {
      "cell_type": "markdown",
      "source": [
        "### UnGraded Cell A2\n",
        "# Plot the histogram of your sample and sketch its QQ plot to see if your are doing good."
      ],
      "metadata": {
        "id": "gxGysRPpTm9T"
      }
    },
    {
      "cell_type": "code",
      "source": [
        "import matplotlib.pyplot as plt\n",
        "\n",
        "l1,l2=Normal(1000)\n",
        "\n",
        "fig=sm.qqplot(l1)\n",
        "plt.show"
      ],
      "metadata": {
        "id": "7cq9nGUp5dcd",
        "colab": {
          "base_uri": "https://localhost:8080/",
          "height": 466
        },
        "outputId": "e8f515fd-a1f0-4b80-b020-a81c04f2436f"
      },
      "execution_count": 89,
      "outputs": [
        {
          "output_type": "execute_result",
          "data": {
            "text/plain": [
              "<function matplotlib.pyplot.show(close=None, block=None)>"
            ]
          },
          "metadata": {},
          "execution_count": 89
        },
        {
          "output_type": "display_data",
          "data": {
            "text/plain": [
              "<Figure size 640x480 with 1 Axes>"
            ],
            "image/png": "[encoded data removed]"
          },
          "metadata": {}
        }
      ]
    },
    {
      "cell_type": "markdown",
      "source": [],
      "metadata": {
        "id": "FAA7t8EF9Zev"
      }
    },
    {
      "cell_type": "markdown",
      "source": [
        "## You will now implement a snippet giving sample from the mixture of the following three random variables\n",
        "\n",
        "\n",
        "1.   $N(-3,1)$ (Normal distribution with $\\mu = -3, \\sigma = 1$)\n",
        "2.   $U(-2,2)$ (Uniform distribution on $(-2,2)$)\n",
        "3.   $N(3,1)$ (Normal distribution with $\\mu = 3, \\sigma = 1$)\n",
        "\n",
        "# with respect to given probability weights w (do not change the order of distributions). Your function should return a sample from the mixture of these random variables. Please mind the arguments of uniform distribution in scipy.stats.uniform functions.\n"
      ],
      "metadata": {
        "id": "P6MdSPKj9dXC"
      }
    },
    {
      "cell_type": "code",
      "source": [
        "def f(sample_size: int, w: np.ndarray) -> np.ndarray:\n",
        "    samples = np.zeros(sample_size)\n",
        "\n",
        "    for i in range(sample_size):\n",
        "        rand_num = np.random.rand()\n",
        "        if rand_num < w[0]:\n",
        "            sample = np.random.normal(loc=-3, scale=1)\n",
        "        elif rand_num < w[0] + w[1]:\n",
        "            sample = np.random.uniform(-2, 2)\n",
        "        else:\n",
        "            sample = np.random.normal(loc=3, scale=1)\n",
        "\n",
        "        samples[i] = sample\n",
        "\n",
        "    return samples"
      ],
      "metadata": {
        "id": "kkGLVxUw9PT3"
      },
      "execution_count": 90,
      "outputs": []
    },
    {
      "cell_type": "code",
      "source": [
        "#### Graded Cell A32, Please do not change anything below as this may cause compiler to crash.\n",
        "np.random.seed(10)\n",
        "assert isinstance(f(1000, w = np.array([0.1, 0.2, 0.7])), np.ndarray), \"Your function should return a numpy array!!!\"\n",
        "assert len(f(1000, w = np.array([0.1, 0.2, 0.7]))) == 1000, \"Your function should return an array of length sample_size!!!\"\n",
        "tester = np.mean(f(100000, w = [0.3, 0.4, 0.3]))\n",
        "assert np.isclose(tester, 0, atol = 0.01), \"Check your implementation mate!!!\"\n",
        "tester = np.mean(f(100000, w = [0.2, 0.2, 0.6]))\n",
        "assert np.isclose(tester, 1.19, atol = 0.1), \"Check your implementation mate!!!\"\n",
        "print(\"Good job pal!!! All tests passed!!! Big Linkedin Congrats to you!!!\")"
      ],
      "metadata": {
        "colab": {
          "base_uri": "https://localhost:8080/"
        },
        "id": "jORHFTPN-mzE",
        "outputId": "03386e62-6384-4661-8923-a35d50add98d"
      },
      "execution_count": 91,
      "outputs": [
        {
          "output_type": "stream",
          "name": "stdout",
          "text": [
            "Good job pal!!! All tests passed!!! Big Linkedin Congrats to you!!!\n"
          ]
        }
      ]
    },
    {
      "cell_type": "markdown",
      "source": [
        "### UnGraded Cell\n",
        "### Plot a histogram of the mixture with respect to a given weight."
      ],
      "metadata": {
        "id": "_waCMQPHA3zr"
      }
    },
    {
      "cell_type": "code",
      "source": [
        "sample = f(100000, w = [0.3, 0.4, 0.3])\n",
        "plt.hist(sample, bins=50, density=True, color='blue', alpha=0.7)\n",
        "plt.title('Histogram of Mixture Distribution')\n",
        "plt.xlabel('Value')\n",
        "plt.ylabel('Density')\n",
        "plt.show()"
      ],
      "metadata": {
        "id": "lgDU_6iOBC5x",
        "colab": {
          "base_uri": "https://localhost:8080/",
          "height": 472
        },
        "outputId": "d43dba43-f7ab-4f35-d5fc-bfe0e774c3c5"
      },
      "execution_count": 92,
      "outputs": [
        {
          "output_type": "display_data",
          "data": {
            "text/plain": [
              "<Figure size 640x480 with 1 Axes>"
            ],
            "image/png": "[encoded data removed]"
          },
          "metadata": {}
        }
      ]
    }
  ]
}