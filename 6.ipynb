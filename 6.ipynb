{
  "cells": [
    {
      "cell_type": "markdown",
      "id": "72fba643",
      "metadata": {
        "id": "72fba643"
      },
      "source": [
        "[![Open in Colab](https://colab.research.google.com/assets/colab-badge.svg)](https://colab.research.google.com/github/y-akbal/Tedu_Computational_Statistics/blob/main/13/ADA402-Final-ALE.ipynb)"
      ]
    },
    {
      "cell_type": "code",
      "execution_count": 2,
      "id": "a94a11cd",
      "metadata": {
        "id": "a94a11cd"
      },
      "outputs": [],
      "source": [
        "import numpy as np\n",
        "import scipy\n",
        "from scipy import stats\n",
        "from matplotlib import pyplot as plt"
      ]
    },
    {
      "cell_type": "markdown",
      "id": "ab55c2bc",
      "metadata": {
        "id": "ab55c2bc"
      },
      "source": [
        "## 1) Use Metropolis-Hasting Sampler to sample from the random varible with pdf given by\n",
        "## $$f(x) = \\frac{x^2 e^{-x}}{2}.$$\n",
        "## for $x > 0$.\n",
        "## Choose your proposal distribution as $g(.|X_t) = \\chi^2(X_t)$, save your sample in an list."
      ]
    },
    {
      "cell_type": "code",
      "execution_count": 3,
      "id": "25cb0741",
      "metadata": {
        "id": "25cb0741",
        "colab": {
          "base_uri": "https://localhost:8080/"
        },
        "outputId": "1eb5aef3-fd71-4373-9679-8f1b2abae868"
      },
      "outputs": [
        {
          "output_type": "stream",
          "name": "stderr",
          "text": [
            "100%|██████████| 100000/100000 [05:25<00:00, 307.65it/s]\n"
          ]
        }
      ],
      "source": [
        "## Your code here!!!\n",
        "f = lambda x: (x)*np.exp(-x**2/2)  ##pdf of Rayleigh dist.\n",
        "chain  = [1]\n",
        "acceptance_ratio = []\n",
        "from tqdm import tqdm\n",
        "for i in tqdm(range(100000)):\n",
        "    Y = stats.chi2(chain[-1]).rvs()\n",
        "    U = np.random.rand()\n",
        "    ratio = (f(Y)*stats.chi2(Y).pdf(chain[-1]))/(f(chain[-1])*stats.chi2(chain[-1]).pdf(Y))\n",
        "    if U <=  ratio:\n",
        "        chain.append(Y)\n",
        "        acceptance_ratio.append(1)\n",
        "    else:\n",
        "        chain.append(chain[-1])"
      ]
    },
    {
      "cell_type": "markdown",
      "id": "ae13ad91",
      "metadata": {
        "id": "ae13ad91"
      },
      "source": [
        "## 2) See here https://en.wikipedia.org/wiki/Gamma_distribution to decide which Gamma distribution is the above distribution?\n",
        "## Pick up the right gamma distribution from stats.gamma, sketch its pdf  together with histogram of your sample to compare your findings."
      ]
    },
    {
      "cell_type": "code",
      "execution_count": 4,
      "id": "393aa00e",
      "metadata": {
        "id": "393aa00e",
        "colab": {
          "base_uri": "https://localhost:8080/"
        },
        "outputId": "688633c6-003d-4fe6-9693-b3b8f512e4c4"
      },
      "outputs": [
        {
          "output_type": "stream",
          "name": "stderr",
          "text": [
            "100%|██████████| 100000/100000 [03:41<00:00, 451.60it/s]\n"
          ]
        }
      ],
      "source": [
        "## Your code here!!!\n",
        "chain  = [1]\n",
        "acc_rat = []\n",
        "for i in tqdm(range(100000)):\n",
        "    proposal_dist = stats.gamma(chain[-1])\n",
        "    Y = proposal_dist.rvs()\n",
        "    U = np.random.rand()\n",
        "    ratio = (f(Y)*stats.gamma(Y).pdf(chain[-1]))/(f(chain[-1])*proposal_dist.pdf(Y))\n",
        "    if U <=  ratio:\n",
        "        chain.append(Y)\n",
        "        acc_rat.append(1)\n",
        "    else:\n",
        "        chain.append(chain[-1])"
      ]
    },
    {
      "cell_type": "code",
      "source": [
        "len(acceptance_ratio)/(len(chain) -1)  #### This chain is pretty in effiient.\n",
        "plt.hist(chain[500:], bins =100, density = True);\n"
      ],
      "metadata": {
        "colab": {
          "base_uri": "https://localhost:8080/",
          "height": 430
        },
        "id": "glsFBUrO-n-r",
        "outputId": "8b3adff3-f7fb-40b4-c516-5171efa0792e"
      },
      "id": "glsFBUrO-n-r",
      "execution_count": 5,
      "outputs": [
        {
          "output_type": "display_data",
          "data": {
            "text/plain": [
              "<Figure size 640x480 with 1 Axes>"
            ],
            "image/png": "[encoded data removed]"
          },
          "metadata": {}
        }
      ]
    },
    {
      "cell_type": "markdown",
      "id": "6fbd77b6",
      "metadata": {
        "id": "6fbd77b6"
      },
      "source": [
        "## 3) Sketch QQ-plot of your a sample from the right Gamma distributions to see if your sample is reliable.\n",
        "## See here for QQ plots: https://www.statsmodels.org/dev/generated/statsmodels.graphics.gofplots.qqplot_2samples.html"
      ]
    },
    {
      "cell_type": "code",
      "source": [
        "from statsmodels.graphics.gofplots import qqplot_2samples\n",
        "### Your code here\n",
        "###\n",
        "chain  = [1]\n",
        "acc_rat = []\n",
        "for i in tqdm(range(100000)):\n",
        "    proposal_dist = stats.gamma(chain[-1])\n",
        "    Y = proposal_dist.rvs()\n",
        "    U = np.random.rand()\n",
        "    ratio = (f(Y)*stats.gamma(Y).pdf(chain[-1]))/(f(chain[-1])*proposal_dist.pdf(Y))\n",
        "    if U <=  ratio:\n",
        "        chain.append(Y)\n",
        "        acc_rat.append(1)\n",
        "    else:\n",
        "        chain.append(chain[-1])"
      ],
      "metadata": {
        "colab": {
          "base_uri": "https://localhost:8080/"
        },
        "id": "I9Y8bbB8_D4K",
        "outputId": "52f130af-f0d3-4194-c47d-9bdab7662c48"
      },
      "id": "I9Y8bbB8_D4K",
      "execution_count": 7,
      "outputs": [
        {
          "output_type": "stream",
          "name": "stderr",
          "text": [
            "100%|██████████| 100000/100000 [03:58<00:00, 419.56it/s]\n"
          ]
        }
      ]
    },
    {
      "cell_type": "code",
      "source": [
        "qqplot_2samples(np.array(chain), np.random.gamma(3,1, size=len(chain)))\n",
        "plt.title('Q-Q Plot for Gamma(3) Distribution')\n",
        "plt.show()\n",
        "\n"
      ],
      "metadata": {
        "colab": {
          "base_uri": "https://localhost:8080/",
          "height": 472
        },
        "id": "2cmOcgCw_jyc",
        "outputId": "05ba31e7-f2c0-49ee-fb7b-99d00fbeaa82"
      },
      "id": "2cmOcgCw_jyc",
      "execution_count": 11,
      "outputs": [
        {
          "output_type": "display_data",
          "data": {
            "text/plain": [
              "<Figure size 640x480 with 1 Axes>"
            ],
            "image/png": "[encoded data removed]"
          },
          "metadata": {}
        }
      ]
    }
  ],
  "metadata": {
    "kernelspec": {
      "display_name": "Python 3 (ipykernel)",
      "language": "python",
      "name": "python3"
    },
    "language_info": {
      "codemirror_mode": {
        "name": "ipython",
        "version": 3
      },
      "file_extension": ".py",
      "mimetype": "text/x-python",
      "name": "python",
      "nbconvert_exporter": "python",
      "pygments_lexer": "ipython3",
      "version": "3.9.13"
    },
    "colab": {
      "provenance": []
    }
  },
  "nbformat": 4,
  "nbformat_minor": 5
}